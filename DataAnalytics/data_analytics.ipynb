{
 "cells": [
  {
   "cell_type": "code",
   "execution_count": 1,
   "metadata": {
    "collapsed": true,
    "ExecuteTime": {
     "end_time": "2024-01-07T11:56:32.474447Z",
     "start_time": "2024-01-07T11:56:29.373456700Z"
    }
   },
   "outputs": [],
   "source": [
    "import os\n",
    "import pandas as pd\n",
    "from pandasai.llm import OpenAI\n",
    "from pandasai import SmartDataframe, Agent\n",
    "from pandasai.helpers.openai_info import get_openai_callback\n",
    "from dotenv import load_dotenv"
   ]
  },
  {
   "cell_type": "code",
   "execution_count": 2,
   "outputs": [],
   "source": [
    "# OpenAI API Key\n",
    "load_dotenv()\n",
    "api_key = os.getenv(\"OPENAI_API_KEY\")"
   ],
   "metadata": {
    "collapsed": false,
    "ExecuteTime": {
     "end_time": "2024-01-07T11:56:32.482247600Z",
     "start_time": "2024-01-07T11:56:32.478974200Z"
    }
   }
  },
  {
   "cell_type": "code",
   "execution_count": 3,
   "outputs": [
    {
     "data": {
      "text/plain": "            Timestamp                 Email Address        ID  \\\n0  6/28/2022 23:19:57                           NaN  18303059   \n1   6/29/2022 8:53:58  jahidulislamanik05@gmail.com  21203066   \n2   6/29/2022 8:55:06     abontiahmed2326@gmail.com  20103005   \n3   6/29/2022 8:56:09          heyatuanik@gmail.com  21203080   \n4   6/29/2022 8:56:31          bdmithu.ar@gmail.com  21203032   \n\n                       Name  Gender Age H.S.C passing year  \\\n0                Abu Raihan    Male  24               2016   \n1       Jahidul Islam Anik     Male  22               2020   \n2  Symu Alahi Jannat Abonti  Female  21               2019   \n3     Hedayetul Islam Anik     Male  20               2020   \n4           Abu Aslam Mithu    Male  22               2019   \n\n  University Admission year University Name Program  ...  \\\n0                      2018           IUBAT    BCSE  ...   \n1                      2021          IUBAT     BCSE  ...   \n2                      2020           IUBAT    BCSE  ...   \n3                      2021           IUBAT    BCSE  ...   \n4                      2021           IUBAT    BCSE  ...   \n\n  Do you have any physical disabilities? What is your monthly family income?  \\\n0                                     No                               25000   \n1                                     No                           100000bdt   \n2                                     No                            50000BDT   \n3                                     No   Actually my family didn’t tell me   \n4                                     No                               50000   \n\n  How many family members you have? Are you self dependent?  \\\n0                                 6                      No   \n1                                 9                      No   \n2                                 6                     Yes   \n3                                 4                      No   \n4                                 4                      No   \n\n  What is your hometown?                                           Comments  \\\n0                Tangail                                                NaN   \n1           Narayanganj    I have no comments against my educational system   \n2                Rangpur                                        No comment.   \n3             Madaripur                                                  No   \n4                Rangpur  There are 3 exam in 1 semester.if university t...   \n\n  Unnamed: 43 What was your previous SGPA? What is your current CGPA?  \\\n0         NaN                          NaN                        NaN   \n1         NaN                          NaN                        NaN   \n2         NaN                          NaN                        NaN   \n3         NaN                          NaN                        NaN   \n4         NaN                          NaN                        NaN   \n\n  How many Credit did you have completed?  \n0                                     NaN  \n1                                     NaN  \n2                                     NaN  \n3                                     NaN  \n4                                     NaN  \n\n[5 rows x 47 columns]",
      "text/html": "<div>\n<style scoped>\n    .dataframe tbody tr th:only-of-type {\n        vertical-align: middle;\n    }\n\n    .dataframe tbody tr th {\n        vertical-align: top;\n    }\n\n    .dataframe thead th {\n        text-align: right;\n    }\n</style>\n<table border=\"1\" class=\"dataframe\">\n  <thead>\n    <tr style=\"text-align: right;\">\n      <th></th>\n      <th>Timestamp</th>\n      <th>Email Address</th>\n      <th>ID</th>\n      <th>Name</th>\n      <th>Gender</th>\n      <th>Age</th>\n      <th>H.S.C passing year</th>\n      <th>University Admission year</th>\n      <th>University Name</th>\n      <th>Program</th>\n      <th>...</th>\n      <th>Do you have any physical disabilities?</th>\n      <th>What is your monthly family income?</th>\n      <th>How many family members you have?</th>\n      <th>Are you self dependent?</th>\n      <th>What is your hometown?</th>\n      <th>Comments</th>\n      <th>Unnamed: 43</th>\n      <th>What was your previous SGPA?</th>\n      <th>What is your current CGPA?</th>\n      <th>How many Credit did you have completed?</th>\n    </tr>\n  </thead>\n  <tbody>\n    <tr>\n      <th>0</th>\n      <td>6/28/2022 23:19:57</td>\n      <td>NaN</td>\n      <td>18303059</td>\n      <td>Abu Raihan</td>\n      <td>Male</td>\n      <td>24</td>\n      <td>2016</td>\n      <td>2018</td>\n      <td>IUBAT</td>\n      <td>BCSE</td>\n      <td>...</td>\n      <td>No</td>\n      <td>25000</td>\n      <td>6</td>\n      <td>No</td>\n      <td>Tangail</td>\n      <td>NaN</td>\n      <td>NaN</td>\n      <td>NaN</td>\n      <td>NaN</td>\n      <td>NaN</td>\n    </tr>\n    <tr>\n      <th>1</th>\n      <td>6/29/2022 8:53:58</td>\n      <td>jahidulislamanik05@gmail.com</td>\n      <td>21203066</td>\n      <td>Jahidul Islam Anik</td>\n      <td>Male</td>\n      <td>22</td>\n      <td>2020</td>\n      <td>2021</td>\n      <td>IUBAT</td>\n      <td>BCSE</td>\n      <td>...</td>\n      <td>No</td>\n      <td>100000bdt</td>\n      <td>9</td>\n      <td>No</td>\n      <td>Narayanganj</td>\n      <td>I have no comments against my educational system</td>\n      <td>NaN</td>\n      <td>NaN</td>\n      <td>NaN</td>\n      <td>NaN</td>\n    </tr>\n    <tr>\n      <th>2</th>\n      <td>6/29/2022 8:55:06</td>\n      <td>abontiahmed2326@gmail.com</td>\n      <td>20103005</td>\n      <td>Symu Alahi Jannat Abonti</td>\n      <td>Female</td>\n      <td>21</td>\n      <td>2019</td>\n      <td>2020</td>\n      <td>IUBAT</td>\n      <td>BCSE</td>\n      <td>...</td>\n      <td>No</td>\n      <td>50000BDT</td>\n      <td>6</td>\n      <td>Yes</td>\n      <td>Rangpur</td>\n      <td>No comment.</td>\n      <td>NaN</td>\n      <td>NaN</td>\n      <td>NaN</td>\n      <td>NaN</td>\n    </tr>\n    <tr>\n      <th>3</th>\n      <td>6/29/2022 8:56:09</td>\n      <td>heyatuanik@gmail.com</td>\n      <td>21203080</td>\n      <td>Hedayetul Islam Anik</td>\n      <td>Male</td>\n      <td>20</td>\n      <td>2020</td>\n      <td>2021</td>\n      <td>IUBAT</td>\n      <td>BCSE</td>\n      <td>...</td>\n      <td>No</td>\n      <td>Actually my family didn’t tell me</td>\n      <td>4</td>\n      <td>No</td>\n      <td>Madaripur</td>\n      <td>No</td>\n      <td>NaN</td>\n      <td>NaN</td>\n      <td>NaN</td>\n      <td>NaN</td>\n    </tr>\n    <tr>\n      <th>4</th>\n      <td>6/29/2022 8:56:31</td>\n      <td>bdmithu.ar@gmail.com</td>\n      <td>21203032</td>\n      <td>Abu Aslam Mithu</td>\n      <td>Male</td>\n      <td>22</td>\n      <td>2019</td>\n      <td>2021</td>\n      <td>IUBAT</td>\n      <td>BCSE</td>\n      <td>...</td>\n      <td>No</td>\n      <td>50000</td>\n      <td>4</td>\n      <td>No</td>\n      <td>Rangpur</td>\n      <td>There are 3 exam in 1 semester.if university t...</td>\n      <td>NaN</td>\n      <td>NaN</td>\n      <td>NaN</td>\n      <td>NaN</td>\n    </tr>\n  </tbody>\n</table>\n<p>5 rows × 47 columns</p>\n</div>"
     },
     "execution_count": 3,
     "metadata": {},
     "output_type": "execute_result"
    }
   ],
   "source": [
    "df = pd.read_csv(\"Students_performance_survey.csv\")\n",
    "df.head()"
   ],
   "metadata": {
    "collapsed": false,
    "ExecuteTime": {
     "end_time": "2024-01-07T11:56:32.542172100Z",
     "start_time": "2024-01-07T11:56:32.482247600Z"
    }
   }
  },
  {
   "cell_type": "code",
   "execution_count": 4,
   "outputs": [],
   "source": [
    "llm = OpenAI(api_token=api_key)\n",
    "sdf = Agent([df], config={\"llm\": llm, \"conversational\":False})"
   ],
   "metadata": {
    "collapsed": false,
    "ExecuteTime": {
     "end_time": "2024-01-07T11:56:32.731045500Z",
     "start_time": "2024-01-07T11:56:32.542172100Z"
    }
   }
  },
  {
   "cell_type": "code",
   "execution_count": 5,
   "outputs": [
    {
     "data": {
      "text/plain": "(1194, 47)"
     },
     "execution_count": 5,
     "metadata": {},
     "output_type": "execute_result"
    }
   ],
   "source": [
    "df.shape"
   ],
   "metadata": {
    "collapsed": false,
    "ExecuteTime": {
     "end_time": "2024-01-07T11:56:32.778421900Z",
     "start_time": "2024-01-07T11:56:32.636874100Z"
    }
   }
  },
  {
   "cell_type": "code",
   "execution_count": 8,
   "outputs": [],
   "source": [
    "def QA(prompt, cost = None):\n",
    "    if cost is None:\n",
    "        with get_openai_callback() as cb:\n",
    "            response = sdf.chat(prompt)\n",
    "            print(response)\n",
    "    else:\n",
    "        with get_openai_callback() as cb:\n",
    "            response = sdf.chat(prompt)\n",
    "            print(response)\n",
    "            print(cb)"
   ],
   "metadata": {
    "collapsed": false,
    "ExecuteTime": {
     "end_time": "2024-01-07T11:58:10.275545Z",
     "start_time": "2024-01-07T11:58:10.244154100Z"
    }
   }
  },
  {
   "cell_type": "code",
   "execution_count": 13,
   "outputs": [
    {
     "name": "stdout",
     "output_type": "stream",
     "text": [
      "The dataset has 1194 rows and 47 columns.\n"
     ]
    }
   ],
   "source": [
    "QA(\"Give me the total number of rows and columns are in the dataset\")"
   ],
   "metadata": {
    "collapsed": false,
    "ExecuteTime": {
     "end_time": "2024-01-07T11:59:40.033733900Z",
     "start_time": "2024-01-07T11:59:35.096680200Z"
    }
   }
  },
  {
   "cell_type": "code",
   "execution_count": 14,
   "outputs": [
    {
     "name": "stdout",
     "output_type": "stream",
     "text": [
      "C:/Users/Bikas/Desktop/DataAnalytics/exports/charts/temp_chart.png\n"
     ]
    },
    {
     "data": {
      "text/plain": "<Figure size 640x480 with 1 Axes>",
      "image/png": "[encoded data removed]"
     },
     "metadata": {},
     "output_type": "display_data"
    }
   ],
   "source": [
    "QA(\"Plot a histogram of the IUBAT by age\")"
   ],
   "metadata": {
    "collapsed": false,
    "ExecuteTime": {
     "end_time": "2024-01-07T12:00:56.405688300Z",
     "start_time": "2024-01-07T12:00:41.035649900Z"
    }
   }
  },
  {
   "cell_type": "code",
   "execution_count": 39,
   "outputs": [
    {
     "name": "stdout",
     "output_type": "stream",
     "text": [
      "          1\n",
      "Male    672\n",
      "Female  522\n",
      "Tokens Used: 73\n",
      "\tPrompt Tokens: 72\n",
      "\tCompletion Tokens: 1\n",
      "Total Cost (USD): $ 0.000074\n"
     ]
    }
   ],
   "source": [
    "QA(\"Number of male and female are there\")"
   ],
   "metadata": {
    "collapsed": false,
    "ExecuteTime": {
     "end_time": "2024-01-07T11:44:22.980454Z",
     "start_time": "2024-01-07T11:44:21.768755300Z"
    }
   }
  },
  {
   "cell_type": "code",
   "execution_count": 42,
   "outputs": [
    {
     "name": "stdout",
     "output_type": "stream",
     "text": [
      "None\n"
     ]
    }
   ],
   "source": [
    "print(sdf.last_code_generated)\n"
   ],
   "metadata": {
    "collapsed": false,
    "ExecuteTime": {
     "end_time": "2024-01-07T11:44:36.427068500Z",
     "start_time": "2024-01-07T11:44:36.424306800Z"
    }
   }
  },
  {
   "cell_type": "code",
   "execution_count": 43,
   "outputs": [
    {
     "name": "stdout",
     "output_type": "stream",
     "text": [
      "153\n",
      "Tokens Used: 1001\n",
      "\tPrompt Tokens: 937\n",
      "\tCompletion Tokens: 64\n",
      "Total Cost (USD): $ 0.001065\n"
     ]
    }
   ],
   "source": [
    "QA(\"Give me the source code of total universities in the dataset\")"
   ],
   "metadata": {
    "collapsed": false,
    "ExecuteTime": {
     "end_time": "2024-01-07T11:44:47.639673600Z",
     "start_time": "2024-01-07T11:44:43.065808800Z"
    }
   }
  },
  {
   "cell_type": "code",
   "execution_count": 44,
   "outputs": [
    {
     "name": "stdout",
     "output_type": "stream",
     "text": [
      "# TODO: import the required dependencies\n",
      "import pandas as pd\n",
      "\n",
      "# Write code here\n",
      "total_universities = len(dfs[0]['University Name'].unique())\n",
      "\n",
      "# Declare result var\n",
      "result = {\n",
      "    \"type\": \"number\",\n",
      "    \"value\": total_universities\n",
      "}\n"
     ]
    }
   ],
   "source": [
    "print(sdf.last_code_generated)"
   ],
   "metadata": {
    "collapsed": false,
    "ExecuteTime": {
     "end_time": "2024-01-07T11:44:50.599905400Z",
     "start_time": "2024-01-07T11:44:50.567850700Z"
    }
   }
  },
  {
   "cell_type": "code",
   "execution_count": 45,
   "outputs": [
    {
     "name": "stdout",
     "output_type": "stream",
     "text": [
      "211\n",
      "Tokens Used: 90\n",
      "\tPrompt Tokens: 89\n",
      "\tCompletion Tokens: 1\n",
      "Total Cost (USD): $ 0.000091\n"
     ]
    }
   ],
   "source": [
    "QA(\"Number of IUBAT students are there\")"
   ],
   "metadata": {
    "collapsed": false,
    "ExecuteTime": {
     "end_time": "2024-01-07T11:45:17.432779600Z",
     "start_time": "2024-01-07T11:45:16.164174300Z"
    }
   }
  },
  {
   "cell_type": "code",
   "execution_count": 46,
   "outputs": [
    {
     "name": "stdout",
     "output_type": "stream",
     "text": [
      "# TODO: import the required dependencies\n",
      "import pandas as pd\n",
      "\n",
      "# Write code here\n",
      "total_universities = len(dfs[0]['University Name'].unique())\n",
      "\n",
      "# Declare result var\n",
      "result = {\n",
      "    \"type\": \"number\",\n",
      "    \"value\": total_universities\n",
      "}\n"
     ]
    }
   ],
   "source": [
    "print(sdf.last_code_generated)"
   ],
   "metadata": {
    "collapsed": false,
    "ExecuteTime": {
     "end_time": "2024-01-07T11:45:19.899452100Z",
     "start_time": "2024-01-07T11:45:19.867995Z"
    }
   }
  },
  {
   "cell_type": "code",
   "execution_count": 47,
   "outputs": [
    {
     "name": "stdout",
     "output_type": "stream",
     "text": [
      "C:/Users/Bikas/Desktop/DataAnalytics/exports/charts/temp_chart.png\n",
      "Tokens Used: 71\n",
      "\tPrompt Tokens: 70\n",
      "\tCompletion Tokens: 1\n",
      "Total Cost (USD): $ 0.000072\n"
     ]
    },
    {
     "data": {
      "text/plain": "<Figure size 800x600 with 1 Axes>",
      "image/png": "[encoded data removed]"
     },
     "metadata": {},
     "output_type": "display_data"
    }
   ],
   "source": [
    "QA(\"Give me the pie chart of IUBAT students age\")"
   ],
   "metadata": {
    "collapsed": false,
    "ExecuteTime": {
     "end_time": "2024-01-07T11:45:31.822206900Z",
     "start_time": "2024-01-07T11:45:25.954084700Z"
    }
   }
  },
  {
   "cell_type": "code",
   "execution_count": 48,
   "outputs": [
    {
     "name": "stdout",
     "output_type": "stream",
     "text": [
      "# TODO: import the required dependencies\n",
      "import pandas as pd\n",
      "\n",
      "# Write code here\n",
      "total_universities = len(dfs[0]['University Name'].unique())\n",
      "\n",
      "# Declare result var\n",
      "result = {\n",
      "    \"type\": \"number\",\n",
      "    \"value\": total_universities\n",
      "}\n"
     ]
    }
   ],
   "source": [
    "print(sdf.last_code_generated)"
   ],
   "metadata": {
    "collapsed": false,
    "ExecuteTime": {
     "end_time": "2024-01-07T11:45:39.937533700Z",
     "start_time": "2024-01-07T11:45:39.905435100Z"
    }
   }
  },
  {
   "cell_type": "code",
   "execution_count": 49,
   "outputs": [
    {
     "data": {
      "text/plain": "<Figure size 640x480 with 1 Axes>",
      "image/png": "[encoded data removed]"
     },
     "metadata": {},
     "output_type": "display_data"
    },
    {
     "name": "stdout",
     "output_type": "stream",
     "text": [
      "C:/Users/Bikas/Desktop/DataAnalytics/exports/charts/temp_chart.png\n",
      "Tokens Used: 82\n",
      "\tPrompt Tokens: 81\n",
      "\tCompletion Tokens: 1\n",
      "Total Cost (USD): $ 0.000083\n"
     ]
    }
   ],
   "source": [
    "QA(\"Best prefearable learning mode between offline and online show in bar plot different color\")"
   ],
   "metadata": {
    "collapsed": false,
    "ExecuteTime": {
     "end_time": "2024-01-07T11:45:53.514078900Z",
     "start_time": "2024-01-07T11:45:47.838854800Z"
    }
   }
  },
  {
   "cell_type": "code",
   "execution_count": 18,
   "outputs": [
    {
     "name": "stdout",
     "output_type": "stream",
     "text": [
      "df = dfs[0]\n",
      "learning_mode_counts = df['What is your preferable learning mode?'].value_counts()\n",
      "plt.bar(learning_mode_counts.index, learning_mode_counts.values, color=['blue', 'orange'])\n",
      "plt.xlabel('Learning Mode')\n",
      "plt.ylabel('Number of Students')\n",
      "plt.title('Preferable Learning Mode')\n",
      "plt.show()\n",
      "result = {'type': 'plot', 'value': 'C:/Users/Bikas/Desktop/DataAnalytics/exports/charts/temp_chart.png'}\n"
     ]
    }
   ],
   "source": [
    "print(sdf.last_code_generated)"
   ],
   "metadata": {
    "collapsed": false,
    "ExecuteTime": {
     "end_time": "2024-01-06T16:23:01.585915Z",
     "start_time": "2024-01-06T16:23:01.555343Z"
    }
   }
  },
  {
   "cell_type": "code",
   "execution_count": 19,
   "outputs": [
    {
     "data": {
      "text/plain": "Offline    858\nOnline     336\nName: What is your preferable learning mode?, dtype: int64"
     },
     "execution_count": 19,
     "metadata": {},
     "output_type": "execute_result"
    }
   ],
   "source": [
    "df[\"What is your preferable learning mode?\"].value_counts()"
   ],
   "metadata": {
    "collapsed": false,
    "ExecuteTime": {
     "end_time": "2024-01-06T16:23:08.644440800Z",
     "start_time": "2024-01-06T16:23:08.593625500Z"
    }
   }
  },
  {
   "cell_type": "code",
   "execution_count": 23,
   "outputs": [
    {
     "data": {
      "text/plain": "            Timestamp                 Email Address        ID  \\\n0  6/28/2022 23:19:57                           NaN  18303059   \n1   6/29/2022 8:53:58  jahidulislamanik05@gmail.com  21203066   \n2   6/29/2022 8:55:06     abontiahmed2326@gmail.com  20103005   \n3   6/29/2022 8:56:09          heyatuanik@gmail.com  21203080   \n4   6/29/2022 8:56:31          bdmithu.ar@gmail.com  21203032   \n\n                       Name  Gender Age H.S.C passing year  \\\n0                Abu Raihan    Male  24               2016   \n1       Jahidul Islam Anik     Male  22               2020   \n2  Symu Alahi Jannat Abonti  Female  21               2019   \n3     Hedayetul Islam Anik     Male  20               2020   \n4           Abu Aslam Mithu    Male  22               2019   \n\n  University Admission year University Name Program  ...  \\\n0                      2018           IUBAT    BCSE  ...   \n1                      2021          IUBAT     BCSE  ...   \n2                      2020           IUBAT    BCSE  ...   \n3                      2021           IUBAT    BCSE  ...   \n4                      2021           IUBAT    BCSE  ...   \n\n  Do you have any physical disabilities? What is your monthly family income?  \\\n0                                     No                               25000   \n1                                     No                           100000bdt   \n2                                     No                            50000BDT   \n3                                     No   Actually my family didn’t tell me   \n4                                     No                               50000   \n\n  How many family members you have? Are you self dependent?  \\\n0                                 6                      No   \n1                                 9                      No   \n2                                 6                     Yes   \n3                                 4                      No   \n4                                 4                      No   \n\n  What is your hometown?                                           Comments  \\\n0                Tangail                                                NaN   \n1           Narayanganj    I have no comments against my educational system   \n2                Rangpur                                        No comment.   \n3             Madaripur                                                  No   \n4                Rangpur  There are 3 exam in 1 semester.if university t...   \n\n  Unnamed: 43 What was your previous SGPA? What is your current CGPA?  \\\n0         NaN                          NaN                        NaN   \n1         NaN                          NaN                        NaN   \n2         NaN                          NaN                        NaN   \n3         NaN                          NaN                        NaN   \n4         NaN                          NaN                        NaN   \n\n  How many Credit did you have completed?  \n0                                     NaN  \n1                                     NaN  \n2                                     NaN  \n3                                     NaN  \n4                                     NaN  \n\n[5 rows x 47 columns]",
      "text/html": "<div>\n<style scoped>\n    .dataframe tbody tr th:only-of-type {\n        vertical-align: middle;\n    }\n\n    .dataframe tbody tr th {\n        vertical-align: top;\n    }\n\n    .dataframe thead th {\n        text-align: right;\n    }\n</style>\n<table border=\"1\" class=\"dataframe\">\n  <thead>\n    <tr style=\"text-align: right;\">\n      <th></th>\n      <th>Timestamp</th>\n      <th>Email Address</th>\n      <th>ID</th>\n      <th>Name</th>\n      <th>Gender</th>\n      <th>Age</th>\n      <th>H.S.C passing year</th>\n      <th>University Admission year</th>\n      <th>University Name</th>\n      <th>Program</th>\n      <th>...</th>\n      <th>Do you have any physical disabilities?</th>\n      <th>What is your monthly family income?</th>\n      <th>How many family members you have?</th>\n      <th>Are you self dependent?</th>\n      <th>What is your hometown?</th>\n      <th>Comments</th>\n      <th>Unnamed: 43</th>\n      <th>What was your previous SGPA?</th>\n      <th>What is your current CGPA?</th>\n      <th>How many Credit did you have completed?</th>\n    </tr>\n  </thead>\n  <tbody>\n    <tr>\n      <th>0</th>\n      <td>6/28/2022 23:19:57</td>\n      <td>NaN</td>\n      <td>18303059</td>\n      <td>Abu Raihan</td>\n      <td>Male</td>\n      <td>24</td>\n      <td>2016</td>\n      <td>2018</td>\n      <td>IUBAT</td>\n      <td>BCSE</td>\n      <td>...</td>\n      <td>No</td>\n      <td>25000</td>\n      <td>6</td>\n      <td>No</td>\n      <td>Tangail</td>\n      <td>NaN</td>\n      <td>NaN</td>\n      <td>NaN</td>\n      <td>NaN</td>\n      <td>NaN</td>\n    </tr>\n    <tr>\n      <th>1</th>\n      <td>6/29/2022 8:53:58</td>\n      <td>jahidulislamanik05@gmail.com</td>\n      <td>21203066</td>\n      <td>Jahidul Islam Anik</td>\n      <td>Male</td>\n      <td>22</td>\n      <td>2020</td>\n      <td>2021</td>\n      <td>IUBAT</td>\n      <td>BCSE</td>\n      <td>...</td>\n      <td>No</td>\n      <td>100000bdt</td>\n      <td>9</td>\n      <td>No</td>\n      <td>Narayanganj</td>\n      <td>I have no comments against my educational system</td>\n      <td>NaN</td>\n      <td>NaN</td>\n      <td>NaN</td>\n      <td>NaN</td>\n    </tr>\n    <tr>\n      <th>2</th>\n      <td>6/29/2022 8:55:06</td>\n      <td>abontiahmed2326@gmail.com</td>\n      <td>20103005</td>\n      <td>Symu Alahi Jannat Abonti</td>\n      <td>Female</td>\n      <td>21</td>\n      <td>2019</td>\n      <td>2020</td>\n      <td>IUBAT</td>\n      <td>BCSE</td>\n      <td>...</td>\n      <td>No</td>\n      <td>50000BDT</td>\n      <td>6</td>\n      <td>Yes</td>\n      <td>Rangpur</td>\n      <td>No comment.</td>\n      <td>NaN</td>\n      <td>NaN</td>\n      <td>NaN</td>\n      <td>NaN</td>\n    </tr>\n    <tr>\n      <th>3</th>\n      <td>6/29/2022 8:56:09</td>\n      <td>heyatuanik@gmail.com</td>\n      <td>21203080</td>\n      <td>Hedayetul Islam Anik</td>\n      <td>Male</td>\n      <td>20</td>\n      <td>2020</td>\n      <td>2021</td>\n      <td>IUBAT</td>\n      <td>BCSE</td>\n      <td>...</td>\n      <td>No</td>\n      <td>Actually my family didn’t tell me</td>\n      <td>4</td>\n      <td>No</td>\n      <td>Madaripur</td>\n      <td>No</td>\n      <td>NaN</td>\n      <td>NaN</td>\n      <td>NaN</td>\n      <td>NaN</td>\n    </tr>\n    <tr>\n      <th>4</th>\n      <td>6/29/2022 8:56:31</td>\n      <td>bdmithu.ar@gmail.com</td>\n      <td>21203032</td>\n      <td>Abu Aslam Mithu</td>\n      <td>Male</td>\n      <td>22</td>\n      <td>2019</td>\n      <td>2021</td>\n      <td>IUBAT</td>\n      <td>BCSE</td>\n      <td>...</td>\n      <td>No</td>\n      <td>50000</td>\n      <td>4</td>\n      <td>No</td>\n      <td>Rangpur</td>\n      <td>There are 3 exam in 1 semester.if university t...</td>\n      <td>NaN</td>\n      <td>NaN</td>\n      <td>NaN</td>\n      <td>NaN</td>\n    </tr>\n  </tbody>\n</table>\n<p>5 rows × 47 columns</p>\n</div>"
     },
     "execution_count": 23,
     "metadata": {},
     "output_type": "execute_result"
    }
   ],
   "source": [
    "df.head()"
   ],
   "metadata": {
    "collapsed": false,
    "ExecuteTime": {
     "end_time": "2024-01-06T16:25:26.298127600Z",
     "start_time": "2024-01-06T16:25:26.257239100Z"
    }
   }
  },
  {
   "cell_type": "code",
   "execution_count": 25,
   "outputs": [
    {
     "name": "stdout",
     "output_type": "stream",
     "text": [
      "            Timestamp Email Address        ID        Name Gender Age  \\\n",
      "0  6/28/2022 23:19:57           NaN  18303059  Abu Raihan   Male  24   \n",
      "\n",
      "  H.S.C passing year University Admission year University Name Program  ...  \\\n",
      "0               2016                      2018           IUBAT    BCSE  ...   \n",
      "\n",
      "  Do you have any physical disabilities? What is your monthly family income?  \\\n",
      "0                                     No                               25000   \n",
      "\n",
      "  How many family members you have? Are you self dependent?  \\\n",
      "0                                 6                      No   \n",
      "\n",
      "  What is your hometown? Comments Unnamed: 43 What was your previous SGPA?  \\\n",
      "0                Tangail      NaN         NaN                          NaN   \n",
      "\n",
      "  What is your current CGPA? How many Credit did you have completed?  \n",
      "0                        NaN                                     NaN  \n",
      "\n",
      "[1 rows x 47 columns]\n",
      "None\n"
     ]
    }
   ],
   "source": [
    "print(QA(\"provide me Abu Raihan's details\"))"
   ],
   "metadata": {
    "collapsed": false,
    "ExecuteTime": {
     "end_time": "2024-01-06T16:26:06.329004700Z",
     "start_time": "2024-01-06T16:26:05.438129800Z"
    }
   }
  },
  {
   "cell_type": "code",
   "execution_count": 26,
   "outputs": [
    {
     "name": "stdout",
     "output_type": "stream",
     "text": [
      "result = {}\n",
      "for df in dfs:\n",
      "    if 'Abu Raihan' in df['Name'].values:\n",
      "        details = df[df['Name'] == 'Abu Raihan']\n",
      "        result = {'type': 'dataframe', 'value': details}\n",
      "        break\n",
      "result\n"
     ]
    }
   ],
   "source": [
    "print(sdf.last_code_generated)"
   ],
   "metadata": {
    "collapsed": false,
    "ExecuteTime": {
     "end_time": "2024-01-06T16:26:27.981314Z",
     "start_time": "2024-01-06T16:26:27.971561700Z"
    }
   }
  },
  {
   "cell_type": "code",
   "execution_count": 51,
   "outputs": [
    {
     "name": "stdout",
     "output_type": "stream",
     "text": [
      "                        Year  Count\n",
      "0                       2016      1\n",
      "1  Completed Diploma ( 2021)      1\n",
      "2                  2014-2016      1\n",
      "3               Diploma-2018      1\n",
      "4               Diploma 2018      1\n",
      "Tokens Used: 2222\n",
      "\tPrompt Tokens: 2049\n",
      "\tCompletion Tokens: 173\n",
      "Total Cost (USD): $ 0.002395\n"
     ]
    }
   ],
   "source": [
    "QA(\"Give me the top 5 years when students pass their HSC\")"
   ],
   "metadata": {
    "collapsed": false,
    "ExecuteTime": {
     "end_time": "2024-01-07T11:49:50.594371500Z",
     "start_time": "2024-01-07T11:49:41.648303200Z"
    }
   }
  },
  {
   "cell_type": "code",
   "execution_count": 53,
   "outputs": [
    {
     "name": "stdout",
     "output_type": "stream",
     "text": [
      "# TODO: import the required dependencies\n",
      "import pandas as pd\n",
      "\n",
      "# Write code here\n",
      "years = []\n",
      "for df in dfs:\n",
      "    years.extend(df['H.S.C passing year'].unique())\n",
      "    \n",
      "year_counts = pd.Series(years).value_counts().head(5)\n",
      "\n",
      "result = {\n",
      "    \"type\": \"dataframe\",\n",
      "    \"value\": year_counts\n",
      "}\n"
     ]
    }
   ],
   "source": [
    "print(sdf.last_code_generated)"
   ],
   "metadata": {
    "collapsed": false,
    "ExecuteTime": {
     "end_time": "2024-01-07T11:50:23.060186300Z",
     "start_time": "2024-01-07T11:50:23.044558Z"
    }
   }
  },
  {
   "cell_type": "code",
   "execution_count": null,
   "outputs": [],
   "source": [],
   "metadata": {
    "collapsed": false
   }
  }
 ],
 "metadata": {
  "kernelspec": {
   "display_name": "Python 3",
   "language": "python",
   "name": "python3"
  },
  "language_info": {
   "codemirror_mode": {
    "name": "ipython",
    "version": 2
   },
   "file_extension": ".py",
   "mimetype": "text/x-python",
   "name": "python",
   "nbconvert_exporter": "python",
   "pygments_lexer": "ipython2",
   "version": "2.7.6"
  }
 },
 "nbformat": 4,
 "nbformat_minor": 0
}
